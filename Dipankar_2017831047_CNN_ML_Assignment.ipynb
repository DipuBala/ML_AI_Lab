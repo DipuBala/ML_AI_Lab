{
  "nbformat": 4,
  "nbformat_minor": 0,
  "metadata": {
    "colab": {
      "provenance": [],
      "include_colab_link": true
    },
    "kernelspec": {
      "name": "python3",
      "display_name": "Python 3"
    },
    "language_info": {
      "name": "python"
    },
    "accelerator": "GPU",
    "gpuClass": "standard"
  },
  "cells": [
    {
      "cell_type": "markdown",
      "metadata": {
        "id": "view-in-github",
        "colab_type": "text"
      },
      "source": [
        "<a href=\"https://colab.research.google.com/github/DipuBala/ML_AI_Lab/blob/main/Dipankar_2017831047_CNN_ML_Assignment.ipynb\" target=\"_parent\"><img src=\"https://colab.research.google.com/assets/colab-badge.svg\" alt=\"Open In Colab\"/></a>"
      ]
    },
    {
      "cell_type": "markdown",
      "source": [
        "# Dataset Access"
      ],
      "metadata": {
        "id": "kdf9ocs3wD-C"
      }
    },
    {
      "cell_type": "code",
      "source": [
        "from google.colab import drive\n",
        "drive.mount('/content/drive')"
      ],
      "metadata": {
        "colab": {
          "base_uri": "https://localhost:8080/"
        },
        "id": "jl9Hw7wwyuPL",
        "outputId": "0dd92def-91c5-4232-9fe2-2fee85f40732"
      },
      "execution_count": 1,
      "outputs": [
        {
          "output_type": "stream",
          "name": "stdout",
          "text": [
            "Mounted at /content/drive\n"
          ]
        }
      ]
    },
    {
      "cell_type": "code",
      "source": [
        "#!unzip \"/content/drive/MyDrive/Ml_Lab/CNN_dataset.zip\""
      ],
      "metadata": {
        "id": "1CuLr3yNsGde"
      },
      "execution_count": null,
      "outputs": []
    },
    {
      "cell_type": "code",
      "source": [
        "import os\n",
        "import cv2\n",
        "import numpy as np\n",
        "from sklearn.model_selection import train_test_split\n",
        "\n",
        "dir_path = '/content/CNN_dataset/'\n",
        "\n",
        "train_split = 0.75\n",
        "val_split = 0.1\n",
        "test_split = 0.15\n",
        "\n",
        "images = []\n",
        "labels = []\n",
        "\n",
        "class_names = ['AbdomenCT', 'CXR', 'ChestCT', 'Hand', 'HeadCT']"
      ],
      "metadata": {
        "id": "sV6cs1NWlNjx"
      },
      "execution_count": 6,
      "outputs": []
    },
    {
      "cell_type": "code",
      "source": [],
      "metadata": {
        "id": "4bvuU4uJsFL6"
      },
      "execution_count": null,
      "outputs": []
    },
    {
      "cell_type": "code",
      "source": [
        "for i, class_name in enumerate(class_names):\n",
        "  class_path = os.path.join(dir_path, class_name)\n",
        "  for image_name in os.listdir(class_path):\n",
        "      image_path = os.path.join(class_path, image_name)\n",
        "      image = cv2.imread(image_path, cv2.IMREAD_GRAYSCALE)\n",
        "      image = cv2.resize(image, (64, 64))\n",
        "      images.append(image)\n",
        "      labels.append(i)"
      ],
      "metadata": {
        "id": "j4cRJv3ClqOv"
      },
      "execution_count": 7,
      "outputs": []
    },
    {
      "cell_type": "code",
      "source": [
        "images = np.array(images, dtype=np.float32)\n",
        "images = np.expand_dims(images, axis=-1)\n",
        "labels = np.array(labels, dtype=np.int32)"
      ],
      "metadata": {
        "id": "dw4YRcQomMOJ"
      },
      "execution_count": 8,
      "outputs": []
    },
    {
      "cell_type": "code",
      "source": [
        "x_train, x_test, y_train, y_test = train_test_split(\n",
        "    images, labels, test_size=test_split, stratify=labels, random_state=42)\n",
        "\n",
        "x_train, x_val, y_train, y_val = train_test_split(\n",
        "    x_train, y_train, test_size=val_split/(train_split-val_split),\n",
        "    stratify=y_train, random_state=42)"
      ],
      "metadata": {
        "id": "v0OUE-BjmcLd"
      },
      "execution_count": 9,
      "outputs": []
    },
    {
      "cell_type": "code",
      "source": [
        "x_train /= 255.\n",
        "x_val /= 255.\n",
        "x_test /= 255."
      ],
      "metadata": {
        "id": "lgJPYq3kqI68"
      },
      "execution_count": 10,
      "outputs": []
    },
    {
      "cell_type": "code",
      "source": [
        "from tensorflow.keras.preprocessing import image\n",
        "from tensorflow.keras.preprocessing.image import ImageDataGenerator\n",
        "from tensorflow.keras.models import Sequential, load_model\n",
        "from tensorflow.keras.optimizers import RMSprop\n",
        "from tensorflow.keras.callbacks import ReduceLROnPlateau\n",
        "from tensorflow.keras.layers import Dense, Flatten, Conv2D, Dropout, MaxPooling2D, AvgPool2D\n",
        "from tensorflow.keras.callbacks import CSVLogger, ModelCheckpoint, ReduceLROnPlateau, EarlyStopping"
      ],
      "metadata": {
        "id": "ur_gFnA9q5YA"
      },
      "execution_count": 11,
      "outputs": []
    },
    {
      "cell_type": "code",
      "source": [
        "import tensorflow as tf\n",
        "model = tf.keras.Sequential()\n",
        "model.add(Conv2D(filters=64, kernel_size=(2,2),strides=(1, 1), padding='same', activation='relu', input_shape=(64,64,1))) \n",
        "model.add(MaxPooling2D(pool_size=(2,2)))\n",
        "model.add(Dropout(0.3))\n",
        "model.add(Conv2D(filters=32, kernel_size=(2,2),strides=(1, 1), padding='same', activation='relu'))\n",
        "model.add(MaxPooling2D(pool_size=(2,2)))\n",
        "model.add(Dropout(0.3))\n",
        "model.add(Conv2D(filters=64, kernel_size=(2,2),strides=(1, 1), padding='same', activation='relu'))\n",
        "model.add(MaxPooling2D(pool_size=(2,2)))\n",
        "model.add(Flatten())\n",
        "model.add(Dense(256, activation='relu'))\n",
        "model.add(Dropout(0.3))\n",
        "model.add(Dense(5, activation='softmax'))\n",
        "model.summary()"
      ],
      "metadata": {
        "colab": {
          "base_uri": "https://localhost:8080/"
        },
        "id": "KoYLilOFr3eA",
        "outputId": "df452034-9a70-4409-d75d-e07a7380345e"
      },
      "execution_count": 12,
      "outputs": [
        {
          "output_type": "stream",
          "name": "stdout",
          "text": [
            "Model: \"sequential\"\n",
            "_________________________________________________________________\n",
            " Layer (type)                Output Shape              Param #   \n",
            "=================================================================\n",
            " conv2d (Conv2D)             (None, 64, 64, 64)        320       \n",
            "                                                                 \n",
            " max_pooling2d (MaxPooling2D  (None, 32, 32, 64)       0         \n",
            " )                                                               \n",
            "                                                                 \n",
            " dropout (Dropout)           (None, 32, 32, 64)        0         \n",
            "                                                                 \n",
            " conv2d_1 (Conv2D)           (None, 32, 32, 32)        8224      \n",
            "                                                                 \n",
            " max_pooling2d_1 (MaxPooling  (None, 16, 16, 32)       0         \n",
            " 2D)                                                             \n",
            "                                                                 \n",
            " dropout_1 (Dropout)         (None, 16, 16, 32)        0         \n",
            "                                                                 \n",
            " conv2d_2 (Conv2D)           (None, 16, 16, 64)        8256      \n",
            "                                                                 \n",
            " max_pooling2d_2 (MaxPooling  (None, 8, 8, 64)         0         \n",
            " 2D)                                                             \n",
            "                                                                 \n",
            " flatten (Flatten)           (None, 4096)              0         \n",
            "                                                                 \n",
            " dense (Dense)               (None, 256)               1048832   \n",
            "                                                                 \n",
            " dropout_2 (Dropout)         (None, 256)               0         \n",
            "                                                                 \n",
            " dense_1 (Dense)             (None, 5)                 1285      \n",
            "                                                                 \n",
            "=================================================================\n",
            "Total params: 1,066,917\n",
            "Trainable params: 1,066,917\n",
            "Non-trainable params: 0\n",
            "_________________________________________________________________\n"
          ]
        }
      ]
    },
    {
      "cell_type": "code",
      "source": [
        "model.compile(loss='sparse_categorical_crossentropy', optimizer='adam', metrics=['accuracy'])"
      ],
      "metadata": {
        "id": "y36Nl_iatkqh"
      },
      "execution_count": 13,
      "outputs": []
    },
    {
      "cell_type": "code",
      "source": [
        "x_train = x_train.reshape(-1,64, 64,1) #Reshape for CNN \n",
        "x_test = x_test.reshape(-1,64, 64, 1)\n",
        "x_train.shape"
      ],
      "metadata": {
        "colab": {
          "base_uri": "https://localhost:8080/"
        },
        "id": "BgOMyGlKtw9g",
        "outputId": "9a3ceb0e-1b32-42fe-b09c-c0f6fb1e2c31"
      },
      "execution_count": 14,
      "outputs": [
        {
          "output_type": "execute_result",
          "data": {
            "text/plain": [
              "(35961, 64, 64, 1)"
            ]
          },
          "metadata": {},
          "execution_count": 14
        }
      ]
    },
    {
      "cell_type": "code",
      "source": [
        "model_log=model.fit(x_train, y_train,\n",
        "          batch_size=60,\n",
        "          epochs=10,\n",
        "          verbose=1,\n",
        "          validation_split=.3)"
      ],
      "metadata": {
        "colab": {
          "base_uri": "https://localhost:8080/"
        },
        "id": "8rAW7xj8t-t6",
        "outputId": "cf88f39c-70b0-4881-8efb-0b393045990a"
      },
      "execution_count": 15,
      "outputs": [
        {
          "output_type": "stream",
          "name": "stdout",
          "text": [
            "Epoch 1/10\n",
            "420/420 [==============================] - 19s 16ms/step - loss: 0.1128 - accuracy: 0.9651 - val_loss: 0.0135 - val_accuracy: 0.9967\n",
            "Epoch 2/10\n",
            "420/420 [==============================] - 6s 14ms/step - loss: 0.0112 - accuracy: 0.9965 - val_loss: 0.0259 - val_accuracy: 0.9965\n",
            "Epoch 3/10\n",
            "420/420 [==============================] - 7s 16ms/step - loss: 0.0105 - accuracy: 0.9965 - val_loss: 0.0651 - val_accuracy: 0.9936\n",
            "Epoch 4/10\n",
            "420/420 [==============================] - 6s 14ms/step - loss: 0.0065 - accuracy: 0.9981 - val_loss: 0.0072 - val_accuracy: 0.9980\n",
            "Epoch 5/10\n",
            "420/420 [==============================] - 7s 16ms/step - loss: 0.0042 - accuracy: 0.9985 - val_loss: 0.0158 - val_accuracy: 0.9958\n",
            "Epoch 6/10\n",
            "420/420 [==============================] - 6s 14ms/step - loss: 0.0047 - accuracy: 0.9985 - val_loss: 0.0606 - val_accuracy: 0.9753\n",
            "Epoch 7/10\n",
            "420/420 [==============================] - 6s 15ms/step - loss: 0.0035 - accuracy: 0.9989 - val_loss: 0.0317 - val_accuracy: 0.9938\n",
            "Epoch 8/10\n",
            "420/420 [==============================] - 6s 14ms/step - loss: 0.0075 - accuracy: 0.9979 - val_loss: 0.0046 - val_accuracy: 0.9990\n",
            "Epoch 9/10\n",
            "420/420 [==============================] - 6s 14ms/step - loss: 0.0032 - accuracy: 0.9990 - val_loss: 0.0107 - val_accuracy: 0.9981\n",
            "Epoch 10/10\n",
            "420/420 [==============================] - 6s 15ms/step - loss: 0.0018 - accuracy: 0.9994 - val_loss: 0.0039 - val_accuracy: 0.9987\n"
          ]
        }
      ]
    },
    {
      "cell_type": "code",
      "source": [
        "score = model.evaluate(x_test, y_test, verbose=0)\n",
        "print('\\n', 'Test accuracy:', score[1])"
      ],
      "metadata": {
        "colab": {
          "base_uri": "https://localhost:8080/"
        },
        "id": "B7KJnkALuWRe",
        "outputId": "c1b5140e-116c-411d-81cf-f39ff58861be"
      },
      "execution_count": 16,
      "outputs": [
        {
          "output_type": "stream",
          "name": "stdout",
          "text": [
            "\n",
            " Test accuracy: 0.9987999796867371\n"
          ]
        }
      ]
    },
    {
      "cell_type": "code",
      "source": [
        "predictions = model.predict(x_test)\n",
        "predictions[0]"
      ],
      "metadata": {
        "colab": {
          "base_uri": "https://localhost:8080/"
        },
        "id": "wVQxNn9RujNb",
        "outputId": "55acde0a-6043-4e4b-ae36-2a75735f0137"
      },
      "execution_count": 17,
      "outputs": [
        {
          "output_type": "stream",
          "name": "stdout",
          "text": [
            "235/235 [==============================] - 1s 2ms/step\n"
          ]
        },
        {
          "output_type": "execute_result",
          "data": {
            "text/plain": [
              "array([2.2694946e-15, 1.0000000e+00, 5.6384467e-11, 1.6013910e-08,\n",
              "       3.3741872e-18], dtype=float32)"
            ]
          },
          "metadata": {},
          "execution_count": 17
        }
      ]
    },
    {
      "cell_type": "code",
      "source": [
        "np.argmax(predictions[0])"
      ],
      "metadata": {
        "colab": {
          "base_uri": "https://localhost:8080/"
        },
        "id": "pLjco3w1vBes",
        "outputId": "b713a759-4628-497a-d76b-088ed2afa161"
      },
      "execution_count": 18,
      "outputs": [
        {
          "output_type": "execute_result",
          "data": {
            "text/plain": [
              "1"
            ]
          },
          "metadata": {},
          "execution_count": 18
        }
      ]
    },
    {
      "cell_type": "code",
      "source": [
        "x_test = x_test.reshape(-1, 64, 64)\n",
        "x_test.shape"
      ],
      "metadata": {
        "colab": {
          "base_uri": "https://localhost:8080/"
        },
        "id": "otNNTFSbvIea",
        "outputId": "62528946-9110-4786-e6b4-9fdd795d1825"
      },
      "execution_count": 21,
      "outputs": [
        {
          "output_type": "execute_result",
          "data": {
            "text/plain": [
              "(7500, 64, 64)"
            ]
          },
          "metadata": {},
          "execution_count": 21
        }
      ]
    },
    {
      "cell_type": "code",
      "source": [
        "import matplotlib.pyplot as plt"
      ],
      "metadata": {
        "id": "Fj6454i1FhFh"
      },
      "execution_count": 23,
      "outputs": []
    },
    {
      "cell_type": "code",
      "source": [
        "import os\n",
        "fig = plt.figure()\n",
        "plt.subplot(2,1,1)\n",
        "plt.plot(model_log.history['accuracy'])\n",
        "plt.plot(model_log.history['val_accuracy'])\n",
        "plt.title('model accuracy')\n",
        "plt.ylabel('accuracy')\n",
        "plt.xlabel('epoch')\n",
        "plt.legend(['train', 'test'], loc='lower right')\n",
        "plt.subplot(2,1,2)\n",
        "plt.plot(model_log.history['loss'])\n",
        "plt.plot(model_log.history['val_loss'])\n",
        "plt.title('model loss')\n",
        "plt.ylabel('loss')\n",
        "plt.xlabel('epoch')\n",
        "plt.legend(['train', 'test'], loc='upper right')\n",
        "plt.tight_layout()"
      ],
      "metadata": {
        "colab": {
          "base_uri": "https://localhost:8080/",
          "height": 297
        },
        "id": "zYmY9CdBvtiH",
        "outputId": "2a82ed21-f49d-417f-cd24-685c3f1370a8"
      },
      "execution_count": 24,
      "outputs": [
        {
          "output_type": "display_data",
          "data": {
            "text/plain": [
              "<Figure size 432x288 with 2 Axes>"
            ],
            "image/png": "[encoded data removed]"
          },
          "metadata": {
            "needs_background": "light"
          }
        }
      ]
    },
    {
      "cell_type": "code",
      "source": [],
      "metadata": {
        "id": "h8MlFM3plS2C"
      },
      "execution_count": null,
      "outputs": []
    }
  ]
}